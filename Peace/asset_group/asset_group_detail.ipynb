{
 "cells": [
  {
   "cell_type": "code",
   "execution_count": 6,
   "metadata": {},
   "outputs": [],
   "source": [
    "import pandas as pd\n",
    "\n",
    "df = pd.read_csv('..\\\\asset_group/NT2_23.TXT', delimiter='\"\\t\"', engine='python')\n",
    "correction = pd.read_excel('..\\\\asset_group/correction_check.xlsx', skiprows=7, usecols='D:I', nrows=6)\n",
    "asset_group = pd.read_csv('..\\\\asset_group/BU_ASSET_GROUP_ADD_INTANGIBLT_NT2_.csv', dtype=str)"
   ]
  },
  {
   "cell_type": "markdown",
   "metadata": {},
   "source": [
    "ดึง \" ที่เหลืออยู่ออก"
   ]
  },
  {
   "cell_type": "code",
   "execution_count": 7,
   "metadata": {},
   "outputs": [],
   "source": [
    "df.columns = [col.strip('\"') for col in df.columns]\n",
    "df = df.rename(columns=lambda x: x.strip())\n",
    "df = df.map(lambda x: x.strip('\"') if isinstance(x, str) else x)"
   ]
  },
  {
   "cell_type": "markdown",
   "metadata": {},
   "source": [
    "ดึงและแยกประเภทรหัสสินทรัพย์จาก BU_ASSET_GROUP_ADD_INTANGIBLT_NT2_.csv"
   ]
  },
  {
   "cell_type": "code",
   "execution_count": 8,
   "metadata": {},
   "outputs": [],
   "source": [
    "land = asset_group.loc[(asset_group['BU_ASSET_GROUP'].str.contains('ที่ดิน อาคาร อุปกรณ์')) & (~asset_group['ACCOUNTING_NAME'].str.contains('สินทรัพย์ระหว่างก่อสร้าง'))]\n",
    "land = land['ACCOUNTING_NUMBER']\n",
    "\n",
    "Intangible = asset_group.loc[asset_group['BU_ASSET_GROUP'].str.contains('สินทรัพย์ไม่มีตัวตน')]\n",
    "Intangible = Intangible['ACCOUNTING_NUMBER']\n",
    "\n",
    "realty = asset_group.loc[asset_group['BU_ASSET_GROUP'].str.contains('อสังหาริมทรัพย์เพื่อการลงทุน')]\n",
    "realty = realty['ACCOUNTING_NUMBER']\n",
    "\n",
    "rent = asset_group.loc[asset_group['BU_ASSET_GROUP'].str.contains('สิทธิการเช่าใช้')]\n",
    "rent = rent['ACCOUNTING_NUMBER']\n",
    "\n",
    "construction = asset_group.loc[asset_group['ACCOUNTING_NAME'].str.contains('สินทรัพย์ระหว่างก่อสร้าง')]\n",
    "construction = construction['ACCOUNTING_NUMBER']"
   ]
  },
  {
   "cell_type": "markdown",
   "metadata": {},
   "source": [
    "แยกประเภทรายการสินทรัพย์ แล้วส่งออกไปที่ Folder \"detail\""
   ]
  },
  {
   "cell_type": "code",
   "execution_count": 9,
   "metadata": {},
   "outputs": [],
   "source": [
    "df_land = pd.merge(df, land, how='right', on='ACCOUNTING_NUMBER')\n",
    "df_land.to_csv('..\\\\asset_group/detail/ที่ดินอาคารอุปกรณ์.csv', index=False)\n",
    "\n",
    "df_intangible = pd.merge(df, Intangible, how='right', on='ACCOUNTING_NUMBER')\n",
    "df_intangible.to_csv('..\\\\asset_group/detail/สินทรัพย์ไม่มีตัวตน.csv', index=False)\n",
    "\n",
    "df_realty = pd.merge(df, realty, how='right', on='ACCOUNTING_NUMBER')\n",
    "df_realty.to_csv('..\\\\asset_group/detail/อสังหาริมทรัพย์.csv', index=False)\n",
    "\n",
    "df_rent = pd.merge(df, rent, how='right', on='ACCOUNTING_NUMBER')\n",
    "df_rent.to_csv('..\\\\asset_group/detail/สินทรัพย์สัญญาเช่า.csv', index=False)\n",
    "\n",
    "df_constuction = pd.merge(df, construction, how='right', on='ACCOUNTING_NUMBER')\n",
    "df_constuction.to_csv('..\\\\asset_group/detail/สินทรัพย์ระหว่างก่อสร้าง.csv', index=False)"
   ]
  }
 ],
 "metadata": {
  "kernelspec": {
   "display_name": "Python 3",
   "language": "python",
   "name": "python3"
  },
  "language_info": {
   "codemirror_mode": {
    "name": "ipython",
    "version": 3
   },
   "file_extension": ".py",
   "mimetype": "text/x-python",
   "name": "python",
   "nbconvert_exporter": "python",
   "pygments_lexer": "ipython3",
   "version": "3.12.3"
  }
 },
 "nbformat": 4,
 "nbformat_minor": 2
}
