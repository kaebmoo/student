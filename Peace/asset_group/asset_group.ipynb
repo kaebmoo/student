{
 "cells": [
  {
   "cell_type": "code",
   "execution_count": 19,
   "metadata": {},
   "outputs": [],
   "source": [
    "import pandas as pd\n",
    "\n",
    "df = pd.read_csv('..\\\\asset_group/NT2_23.TXT', delimiter='\"\\t\"', engine='python')\n",
    "correction = pd.read_excel('..\\\\asset_group/correction_check.xlsx', skiprows=7, usecols='D:I', nrows=6)\n",
    "asset_group = pd.read_csv('..\\\\asset_group/BU_ASSET_GROUP_ADD_INTANGIBLT_NT2_.csv', dtype=str)"
   ]
  },
  {
   "cell_type": "markdown",
   "metadata": {},
   "source": [
    "ดึง \" ที่เหลืออยู่ออก"
   ]
  },
  {
   "cell_type": "code",
   "execution_count": 20,
   "metadata": {},
   "outputs": [],
   "source": [
    "df.columns = [col.strip('\"') for col in df.columns]\n",
    "df = df.rename(columns=lambda x: x.strip())\n",
    "df = df.map(lambda x: x.strip('\"') if isinstance(x, str) else x)"
   ]
  },
  {
   "cell_type": "markdown",
   "metadata": {},
   "source": [
    "โชว์ข้อมูลที่ผิดพลาด"
   ]
  },
  {
   "cell_type": "code",
   "execution_count": 12,
   "metadata": {},
   "outputs": [],
   "source": [
    "df2 = pd.read_csv('..\\\\asset_group/NT2_23.TXT', delimiter='\\t', dtype=str)\n",
    "\n",
    "df2[' ACQUISITION_VALUE'] = df2[' ACQUISITION_VALUE'].astype(str).str.strip()\n",
    "corrupt_df = df2[~df2[' ACQUISITION_VALUE'].str.match(r'^\\d+(\\.\\d+)?$', na=False)]\n",
    "corrupt_df.to_csv('..\\\\asset_group/result/corrupt_data.csv')"
   ]
  },
  {
   "cell_type": "markdown",
   "metadata": {},
   "source": [
    "นำออกไฟล์ที่แก้ไขข้อผิดพลาดแล้ว"
   ]
  },
  {
   "cell_type": "code",
   "execution_count": 13,
   "metadata": {},
   "outputs": [],
   "source": [
    "df.to_csv('..\\\\asset_group/result/NT2_23_FIX.csv', index=False)"
   ]
  },
  {
   "cell_type": "markdown",
   "metadata": {},
   "source": [
    "ยอดรวมทรัพย์สิน"
   ]
  },
  {
   "cell_type": "code",
   "execution_count": 21,
   "metadata": {},
   "outputs": [],
   "source": [
    "sum_df = pd.DataFrame({\n",
    "    ' ':['ที่ดินอาคารอุปกรณ์ Total', 'สินทรัพย์ไม่มีตัวตน Total', 'อสังหาริมทรัพย์ฯ Total', 'สินทรัพย์สัญญาเช่า Total', 'สินทรัพย์ระหว่างก่อสร้าง', 'ยอดรวมสินทรัพย์ทั้งสิ้น'],})\n",
    "\n",
    "sum_df[['มูลค่าการได้มา','ค่าเสื่อมราคาสะสม','ค่าเผื่อการด้อยค่า','มูลค่าตามบัญชี','ค่าเสื่อมเดือน','ค่าเสื่อมราคาในปี']] = None"
   ]
  },
  {
   "cell_type": "markdown",
   "metadata": {},
   "source": [
    "รวมยอดทรัพย์สินทั้งหมด"
   ]
  },
  {
   "cell_type": "code",
   "execution_count": 22,
   "metadata": {},
   "outputs": [],
   "source": [
    "land = asset_group.loc[(asset_group['BU_ASSET_GROUP'].str.contains('ที่ดิน อาคาร อุปกรณ์')) & (~asset_group['ACCOUNTING_NAME'].str.contains('สินทรัพย์ระหว่างก่อสร้าง'))]\n",
    "land = land['ACCOUNTING_NUMBER']\n",
    "\n",
    "Intangible = asset_group.loc[asset_group['BU_ASSET_GROUP'].str.contains('สินทรัพย์ไม่มีตัวตน')]\n",
    "Intangible = Intangible['ACCOUNTING_NUMBER']\n",
    "\n",
    "realty = asset_group.loc[asset_group['BU_ASSET_GROUP'].str.contains('อสังหาริมทรัพย์เพื่อการลงทุน')]\n",
    "realty = realty['ACCOUNTING_NUMBER']\n",
    "\n",
    "rent = asset_group.loc[asset_group['BU_ASSET_GROUP'].str.contains('สิทธิการเช่าใช้')]\n",
    "rent = rent['ACCOUNTING_NUMBER']\n",
    "\n",
    "construction = asset_group.loc[asset_group['ACCOUNTING_NAME'].str.contains('สินทรัพย์ระหว่างก่อสร้าง')]\n",
    "construction = construction['ACCOUNTING_NUMBER']"
   ]
  },
  {
   "cell_type": "code",
   "execution_count": 23,
   "metadata": {},
   "outputs": [],
   "source": [
    "df_land = pd.merge(df, land, how='right', on='ACCOUNTING_NUMBER')\n",
    "sum_df.at[0,'มูลค่าการได้มา'] = df_land['ACQUISITION_VALUE'].sum()\n",
    "sum_df.at[0,'ค่าเสื่อมราคาสะสม'] = df_land['ACCUMULATED_DEPRECIATION'].sum()\n",
    "sum_df.at[0,'ค่าเผื่อการด้อยค่า'] = df_land['IMPAIRMENT_OF_ASSET'].sum()\n",
    "sum_df.at[0,'มูลค่าตามบัญชี'] = df_land['BOOK_VALUE'].sum()\n",
    "sum_df.at[0,'ค่าเสื่อมเดือน'] = df_land['DEPRECIATION_OF_MONTH'].sum()\n",
    "sum_df.at[0,'ค่าเสื่อมราคาในปี'] = df_land['DEPRECIATION_YEAREND'].sum()\n",
    "\n",
    "df_intangible = pd.merge(df, Intangible, how='right', on='ACCOUNTING_NUMBER')\n",
    "sum_df.at[1,'มูลค่าการได้มา'] = df_intangible['ACQUISITION_VALUE'].sum()\n",
    "sum_df.at[1,'ค่าเสื่อมราคาสะสม'] = df_intangible['ACCUMULATED_DEPRECIATION'].sum()\n",
    "sum_df.at[1,'ค่าเผื่อการด้อยค่า'] = df_intangible['IMPAIRMENT_OF_ASSET'].sum()\n",
    "sum_df.at[1,'มูลค่าตามบัญชี'] = df_intangible['BOOK_VALUE'].sum()\n",
    "sum_df.at[1,'ค่าเสื่อมเดือน'] = df_intangible['DEPRECIATION_OF_MONTH'].sum()\n",
    "sum_df.at[1,'ค่าเสื่อมราคาในปี'] = df_intangible['DEPRECIATION_YEAREND'].sum()\n",
    "\n",
    "df_realty = pd.merge(df, realty, how='right', on='ACCOUNTING_NUMBER')\n",
    "sum_df.at[2,'มูลค่าการได้มา'] = df_realty['ACQUISITION_VALUE'].sum()\n",
    "sum_df.at[2,'ค่าเสื่อมราคาสะสม'] = df_realty['ACCUMULATED_DEPRECIATION'].sum()\n",
    "sum_df.at[2,'ค่าเผื่อการด้อยค่า'] = df_realty['IMPAIRMENT_OF_ASSET'].sum()\n",
    "sum_df.at[2,'มูลค่าตามบัญชี'] = df_realty['BOOK_VALUE'].sum()\n",
    "sum_df.at[2,'ค่าเสื่อมเดือน'] = df_realty['DEPRECIATION_OF_MONTH'].sum()\n",
    "sum_df.at[2,'ค่าเสื่อมราคาในปี'] = df_realty['DEPRECIATION_YEAREND'].sum()\n",
    "\n",
    "df_rent = pd.merge(df, rent, how='right', on='ACCOUNTING_NUMBER')\n",
    "sum_df.at[3,'มูลค่าการได้มา'] = df_rent['ACQUISITION_VALUE'].sum()\n",
    "sum_df.at[3,'ค่าเสื่อมราคาสะสม'] = df_rent['ACCUMULATED_DEPRECIATION'].sum()\n",
    "sum_df.at[3,'ค่าเผื่อการด้อยค่า'] = df_rent['IMPAIRMENT_OF_ASSET'].sum()\n",
    "sum_df.at[3,'มูลค่าตามบัญชี'] = df_rent['BOOK_VALUE'].sum()\n",
    "sum_df.at[3,'ค่าเสื่อมเดือน'] = df_rent['DEPRECIATION_OF_MONTH'].sum()\n",
    "sum_df.at[3,'ค่าเสื่อมราคาในปี'] = df_rent['DEPRECIATION_YEAREND'].sum()\n",
    "\n",
    "df_constuction = pd.merge(df, construction, how='right', on='ACCOUNTING_NUMBER')\n",
    "sum_df.at[4,'มูลค่าการได้มา'] = df_constuction['ACQUISITION_VALUE'].sum()\n",
    "sum_df.at[4,'ค่าเสื่อมราคาสะสม'] = df_constuction['ACCUMULATED_DEPRECIATION'].sum()\n",
    "sum_df.at[4,'ค่าเผื่อการด้อยค่า'] = df_constuction['IMPAIRMENT_OF_ASSET'].sum()\n",
    "sum_df.at[4,'มูลค่าตามบัญชี'] = df_constuction['BOOK_VALUE'].sum()\n",
    "sum_df.at[4,'ค่าเสื่อมเดือน'] = df_constuction['DEPRECIATION_OF_MONTH'].sum()\n",
    "sum_df.at[4,'ค่าเสื่อมราคาในปี'] = df_constuction['DEPRECIATION_YEAREND'].sum()\n",
    "\n",
    "sum_df.at[5,'มูลค่าการได้มา'] = df['ACQUISITION_VALUE'].sum()\n",
    "sum_df.at[5,'ค่าเสื่อมราคาสะสม'] = df['ACCUMULATED_DEPRECIATION'].sum()\n",
    "sum_df.at[5,'ค่าเผื่อการด้อยค่า'] = df['IMPAIRMENT_OF_ASSET'].sum()\n",
    "sum_df.at[5,'มูลค่าตามบัญชี'] = df['BOOK_VALUE'].sum()\n",
    "sum_df.at[5,'ค่าเสื่อมเดือน'] = df['DEPRECIATION_OF_MONTH'].sum()\n",
    "sum_df.at[5,'ค่าเสื่อมราคาในปี'] = df['DEPRECIATION_YEAREND'].sum()\n",
    "\n",
    "sum_df['ค่าเสื่อมเดือน'] = sum_df['ค่าเสื่อมเดือน'].map(lambda x: -x)\n",
    "sum_df['ค่าเสื่อมราคาในปี'] = sum_df['ค่าเสื่อมราคาในปี'].map(lambda x: -x)"
   ]
  },
  {
   "cell_type": "code",
   "execution_count": 24,
   "metadata": {},
   "outputs": [],
   "source": [
    "sum_df.to_excel('..\\\\asset_group/result/total_result.xlsx', index=False)"
   ]
  },
  {
   "cell_type": "markdown",
   "metadata": {},
   "source": [
    "ตรวจสอบความถูกต้อง"
   ]
  },
  {
   "cell_type": "code",
   "execution_count": 25,
   "metadata": {},
   "outputs": [
    {
     "name": "stdout",
     "output_type": "stream",
     "text": [
      "Comparison Result:\n",
      "   มูลค่าการได้มา  ค่าเสื่อมราคาสะสม  ค่าเผื่อการด้อยค่า  มูลค่าตามบัญชี  \\\n",
      "0            True               True                True            True   \n",
      "1            True               True                True            True   \n",
      "2            True               True                True            True   \n",
      "3            True               True                True            True   \n",
      "4            True               True                True            True   \n",
      "5            True               True                True            True   \n",
      "\n",
      "   ค่าเสื่อมเดือน  ค่าเสื่อมราคาในปี  \n",
      "0            True               True  \n",
      "1            True               True  \n",
      "2            True               True  \n",
      "3            True               True  \n",
      "4            True               True  \n",
      "5            True               True  \n",
      "All values match!\n"
     ]
    }
   ],
   "source": [
    "sum_df = sum_df.drop(sum_df.columns[0], axis=1)\n",
    "sum_df = sum_df.astype(float)\n",
    "\n",
    "correction = correction.round(2)\n",
    "sum_df = sum_df.round(2)\n",
    "\n",
    "# ทำการเปรียบเทียบ\n",
    "comparison = correction == sum_df\n",
    "print(\"Comparison Result:\")\n",
    "print(comparison)\n",
    "\n",
    "if comparison.all().all():\n",
    "    print(\"All values match!\")\n",
    "else:\n",
    "    print(\"There are mismatched values.\")"
   ]
  }
 ],
 "metadata": {
  "kernelspec": {
   "display_name": "Python 3",
   "language": "python",
   "name": "python3"
  },
  "language_info": {
   "codemirror_mode": {
    "name": "ipython",
    "version": 3
   },
   "file_extension": ".py",
   "mimetype": "text/x-python",
   "name": "python",
   "nbconvert_exporter": "python",
   "pygments_lexer": "ipython3",
   "version": "3.12.3"
  }
 },
 "nbformat": 4,
 "nbformat_minor": 2
}
