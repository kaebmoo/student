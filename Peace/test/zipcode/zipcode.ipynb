{
 "cells": [
  {
   "cell_type": "code",
   "execution_count": 30,
   "metadata": {},
   "outputs": [],
   "source": [
    "import pandas as pd\n",
    "\n",
    "df = pd.read_csv('D:/student/Peace/test/zipcode/MASTER_ORGANIZATION_NT_MAPPING_20230601(แก้ไข).csv', dtype=str)\n",
    "\n",
    "zipcode = pd.read_excel('D:/student/Peace/test/zipcode/zipcode_wikipedia_.xlsx', dtype=str)\n",
    "province = pd.read_csv('D:/student/Peace/test/zipcode/romanized_province.csv', dtype=str)\n",
    "province['thai_province'] = province['thai_province'].str.strip()"
   ]
  },
  {
   "cell_type": "markdown",
   "metadata": {},
   "source": [
    "จัดเตรียมชื่อจังหวัด, ไปรษณีย์ไทย"
   ]
  },
  {
   "cell_type": "code",
   "execution_count": 29,
   "metadata": {},
   "outputs": [],
   "source": [
    "zipcode['อำเภอ'] = zipcode['อำเภอ'].str.replace(r'^เมือง', '',regex=True)\n",
    "zipcode.rename(columns={'อำเภอ': 'thai_province'}, inplace=True)\n",
    "zipcode = pd.merge(zipcode, province, how='left', on='thai_province')\n",
    "zipcode = zipcode.loc[(zipcode['รหัสไปรษณีย์'].str.contains(r'10270', na=False)) | (zipcode['รหัสไปรษณีย์'].str.contains(r'\\d\\d000', na=False)) & (~zipcode['province_id'].isna())]\n",
    "zipcode = zipcode.drop(columns=['เขต'])\n",
    "zipcode.loc[0] = ['10210', '', 'กรุงเทพมหานคร', '1', 'Bangkok']\n",
    "zipcode = zipcode.sort_index()\n",
    "zipcode['romanized_province'] = zipcode['romanized_province'].str.title()"
   ]
  },
  {
   "cell_type": "code",
   "execution_count": null,
   "metadata": {},
   "outputs": [],
   "source": []
  }
 ],
 "metadata": {
  "kernelspec": {
   "display_name": "Python 3",
   "language": "python",
   "name": "python3"
  },
  "language_info": {
   "codemirror_mode": {
    "name": "ipython",
    "version": 3
   },
   "file_extension": ".py",
   "mimetype": "text/x-python",
   "name": "python",
   "nbconvert_exporter": "python",
   "pygments_lexer": "ipython3",
   "version": "3.12.3"
  }
 },
 "nbformat": 4,
 "nbformat_minor": 2
}
