{
 "cells": [
  {
   "cell_type": "code",
   "execution_count": 2,
   "metadata": {},
   "outputs": [],
   "source": [
    "import pandas as pd\n",
    "\n",
    "df = pd.read_csv('D:/student/Peace/test/zipcode/MASTER_ORGANIZATION_NT_MAPPING_20230601(แก้ไข).csv', dtype=str)\n",
    "\n",
    "zipcode = pd.read_excel('D:/student/Peace/test/zipcode/zipcode_wikipedia_.xlsx', dtype=str)\n",
    "amphoe = pd.read_csv('D:/student/Peace/test/zipcode/romanized_amphoe.csv', dtype=str)\n",
    "province = pd.read_csv('D:/student/Peace/test/zipcode/romanized_province.csv', dtype=str)"
   ]
  },
  {
   "cell_type": "code",
   "execution_count": null,
   "metadata": {},
   "outputs": [],
   "source": [
    "amphoe_province = pd.merge(amphoe, province, how='left', on='province_id')"
   ]
  }
 ],
 "metadata": {
  "kernelspec": {
   "display_name": "Python 3",
   "language": "python",
   "name": "python3"
  },
  "language_info": {
   "codemirror_mode": {
    "name": "ipython",
    "version": 3
   },
   "file_extension": ".py",
   "mimetype": "text/x-python",
   "name": "python",
   "nbconvert_exporter": "python",
   "pygments_lexer": "ipython3",
   "version": "3.12.3"
  }
 },
 "nbformat": 4,
 "nbformat_minor": 2
}
