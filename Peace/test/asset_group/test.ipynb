{
 "cells": [
  {
   "cell_type": "code",
   "execution_count": 2,
   "metadata": {},
   "outputs": [],
   "source": [
    "import pandas as pd\n",
    "\n",
    "df = pd.read_csv('D:/student/Peace/test/asset_group/NT2_23.TXT', delimiter='\"\\t\"', engine='python')\n",
    "\n",
    "asset_group = pd.read_csv('D:/student/Peace/test/asset_group/BU_ASSET_GROUP_ADD_INTANGIBLT_NT2_.csv', dtype=str)"
   ]
  },
  {
   "cell_type": "markdown",
   "metadata": {},
   "source": [
    "ดึง \" ที่เหลืออยู่ออก"
   ]
  },
  {
   "cell_type": "code",
   "execution_count": 6,
   "metadata": {},
   "outputs": [],
   "source": [
    "df.columns = [col.strip('\"') for col in df.columns]\n",
    "df = df.map(lambda x: x.strip('\"') if isinstance(x, str) else x)"
   ]
  },
  {
   "cell_type": "code",
   "execution_count": 6,
   "metadata": {},
   "outputs": [],
   "source": [
    "# acquisition_value = df[' ACQUISITION_VALUE'].sum()\n",
    "# print(acquisition_value)\n",
    "# accumulated_depreciation = df[' ACCUMULATED_DEPRECIATION'].sum()\n",
    "# print(accumulated_depreciation)\n",
    "# impairment_of_asset = df[' IMPAIRMENT_OF_ASSET'].sum()\n",
    "# print(impairment_of_asset)\n",
    "# book_value = df[' BOOK_VALUE'].sum()\n",
    "# print(book_value)\n",
    "# depreciation_of_month = df[' DEPRECIATION_OF_MONTH'].sum()\n",
    "# print(depreciation_of_month)\n",
    "# depreciation_yearend = df[' DEPRECIATION_YEAREND'].sum()\n",
    "# print(depreciation_yearend)\n",
    "\n",
    "df[' ACQUISITION_VALUE'] = df[' ACQUISITION_VALUE'].astype(str)\n",
    "corrupt_df = df[~df[' ACQUISITION_VALUE'].str.match(r'^\\d+(\\.\\d+)?$', na=False)]\n",
    "corrupt_df.to_csv('D:/student/Peace/test/asset_group/corrupt_data.csv', index=False)"
   ]
  },
  {
   "cell_type": "code",
   "execution_count": 11,
   "metadata": {},
   "outputs": [],
   "source": [
    "df.to_csv('D:/student/Peace/test/asset_group/NT2_23_FIX.csv', index=False)"
   ]
  },
  {
   "cell_type": "code",
   "execution_count": 3,
   "metadata": {},
   "outputs": [],
   "source": [
    "sum_df = {' ':['ที่ดินอาคารอุปกรณ์ Total', 'สินทรัพย์ไม่มีตัวตน Total', 'อสังหาริมทรัพย์ฯ Total', 'สินทรัพย์สัญญาเช่า Total', 'สินทรัพย์ระหว่างก่อสร้าง', 'ยอดรวมสินทรัพย์ทั้งสิ้น'],\n",
    "          'มูลค่าการได้มา' : [], 'ค่าเสื่อมราคาสะสม' : [], 'ค่าเผื่อการด้อยค่า' : [], 'มูลค่าตามบัญชี' : [], 'ค่าเสื่อมเดือน' : [], 'ค่าเสื่อมราคาในปี' : []}"
   ]
  },
  {
   "cell_type": "code",
   "execution_count": null,
   "metadata": {},
   "outputs": [],
   "source": []
  }
 ],
 "metadata": {
  "kernelspec": {
   "display_name": "Python 3",
   "language": "python",
   "name": "python3"
  },
  "language_info": {
   "codemirror_mode": {
    "name": "ipython",
    "version": 3
   },
   "file_extension": ".py",
   "mimetype": "text/x-python",
   "name": "python",
   "nbconvert_exporter": "python",
   "pygments_lexer": "ipython3",
   "version": "3.12.3"
  }
 },
 "nbformat": 4,
 "nbformat_minor": 2
}
