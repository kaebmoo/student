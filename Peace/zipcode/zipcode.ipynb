{
 "cells": [
  {
   "cell_type": "code",
   "execution_count": 117,
   "metadata": {},
   "outputs": [],
   "source": [
    "import pandas as pd\n",
    "\n",
    "df = pd.read_csv('..\\\\zipcode/MASTER_ORGANIZATION_NT_MAPPING_20230601(แก้ไข).csv', dtype=str)\n",
    "\n",
    "zipcode = pd.read_excel('..\\\\zipcode/zipcode_wikipedia_.xlsx', dtype=str)\n",
    "province = pd.read_csv('..\\\\zipcode/romanized_province.csv', dtype=str)\n",
    "province['thai_province'] = province['thai_province'].str.strip()"
   ]
  },
  {
   "cell_type": "markdown",
   "metadata": {},
   "source": [
    "จัดเตรียมชื่อจังหวัด, ไปรษณีย์ไทย"
   ]
  },
  {
   "cell_type": "code",
   "execution_count": 118,
   "metadata": {},
   "outputs": [],
   "source": [
    "zipcode['อำเภอ'] = zipcode['อำเภอ'].fillna(zipcode['เขต'])\n",
    "zipcode.loc[len(zipcode)] = ['', '10210', '', 'กรุงเทพมหานคร']"
   ]
  },
  {
   "cell_type": "code",
   "execution_count": 119,
   "metadata": {},
   "outputs": [],
   "source": [
    "zipcode['อำเภอ'] = zipcode['อำเภอ'].str.replace(r'^เมือง', '',regex=True)\n",
    "zipcode.rename(columns={'อำเภอ': 'thai_province'}, inplace=True)\n",
    "zipcode = pd.merge(province, zipcode, how='left', on='thai_province')\n",
    "zipcode = zipcode.loc[(zipcode['รหัสไปรษณีย์'].str.contains(r'10270|10210|\\d\\d000', na=False)) & (~zipcode['province_id'].isna())]\n",
    "zipcode = zipcode.drop(columns=['เขต', 'หมายเหตุ', 'province_id'])\n",
    "zipcode['romanized_province'] = zipcode['romanized_province'].str.title()"
   ]
  },
  {
   "cell_type": "code",
   "execution_count": 120,
   "metadata": {},
   "outputs": [],
   "source": [
    "def update_province_info(row, zipcode):\n",
    "    for _, zipcode_row in zipcode.iterrows():\n",
    "        if zipcode_row['thai_province'] in row['ส่วน']:\n",
    "            row['PROVINCE'] = zipcode_row['romanized_province']\n",
    "            row['PROVINCE (THAI)'] = zipcode_row['thai_province']\n",
    "            row['ZIPCODE'] = zipcode_row['รหัสไปรษณีย์']\n",
    "            break\n",
    "    return row\n",
    "\n",
    "df = df.apply(update_province_info, axis=1, zipcode=zipcode)"
   ]
  },
  {
   "cell_type": "code",
   "execution_count": 121,
   "metadata": {},
   "outputs": [],
   "source": [
    "df.to_csv('D:/student/Peace/test/zipcode/MASTER_ORGANIZATION_NT_MAPPING_20230601(แก้ไขแล้ว).csv', index=False)"
   ]
  }
 ],
 "metadata": {
  "kernelspec": {
   "display_name": "Python 3",
   "language": "python",
   "name": "python3"
  },
  "language_info": {
   "codemirror_mode": {
    "name": "ipython",
    "version": 3
   },
   "file_extension": ".py",
   "mimetype": "text/x-python",
   "name": "python",
   "nbconvert_exporter": "python",
   "pygments_lexer": "ipython3",
   "version": "3.12.3"
  }
 },
 "nbformat": 4,
 "nbformat_minor": 2
}
